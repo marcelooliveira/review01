{
 "cells": [
  {
   "cell_type": "code",
   "execution_count": 1,
   "metadata": {
    "vscode": {
     "languageId": "plaintext"
    }
   },
   "outputs": [
    {
     "name": "stdout",
     "output_type": "stream",
     "text": [
      "Dataset shape: (7043, 35)\n",
      "\n",
      "Feature distribution:\n",
      "         Count      Zip Code     Latitude    Longitude  Tenure Months  \\\n",
      "count  7043.0   7043.000000  7043.000000  7043.000000    7043.000000   \n",
      "mean      1.0  93521.964646    36.282441  -119.798880      32.371149   \n",
      "std       0.0   1865.794555     2.455723     2.157889      24.559481   \n",
      "min       1.0  90001.000000    32.555828  -124.301372       0.000000   \n",
      "25%       1.0  92102.000000    34.030915  -121.815412       9.000000   \n",
      "50%       1.0  93552.000000    36.391777  -119.730885      29.000000   \n",
      "75%       1.0  95351.000000    38.224869  -118.043237      55.000000   \n",
      "max       1.0  96161.000000    41.962127  -114.192901      72.000000   \n",
      "\n",
      "       Monthly Charges  Churn Value  Churn Score         CLTV  \n",
      "count      7043.000000  7043.000000  7043.000000  7043.000000  \n",
      "mean         64.761692     0.265370    58.699418  4400.295755  \n",
      "std          30.090047     0.441561    21.525131  1183.057152  \n",
      "min          18.250000     0.000000     5.000000  2003.000000  \n",
      "25%          35.500000     0.000000    40.000000  3469.000000  \n",
      "50%          70.350000     0.000000    61.000000  4527.000000  \n",
      "75%          89.850000     1.000000    75.000000  5380.500000  \n",
      "max         118.750000     1.000000   100.000000  6500.000000  \n",
      "\n",
      "Missing values:\n",
      " CustomerID              0\n",
      "Count                   0\n",
      "Country                 0\n",
      "State                   0\n",
      "City                    0\n",
      "Zip Code                0\n",
      "Lat Long                0\n",
      "Latitude                0\n",
      "Longitude               0\n",
      "Gender                  0\n",
      "Senior Citizen          0\n",
      "Partner                 0\n",
      "Dependents              0\n",
      "Tenure Months           0\n",
      "Phone Service           0\n",
      "Multiple Lines          0\n",
      "Internet Service        0\n",
      "Online Security         0\n",
      "Online Backup           0\n",
      "Device Protection       0\n",
      "Tech Support            0\n",
      "Streaming TV            0\n",
      "Streaming Movies        0\n",
      "Contract                0\n",
      "Paperless Billing       0\n",
      "Payment Method          0\n",
      "Monthly Charges         0\n",
      "Total Charges           0\n",
      "Churn Label             0\n",
      "Churn Value             0\n",
      "Churn Score             0\n",
      "CLTV                    0\n",
      "Churn Reason         5174\n",
      "conversation            0\n",
      "customer_text           0\n",
      "dtype: int64\n"
     ]
    }
   ],
   "source": [
    "import pandas as pd\n",
    "import numpy as np\n",
    "from sklearn.model_selection import train_test_split\n",
    "# Load the dataset\n",
    "df = pd.read_csv('./data/Telco_customer_churn_with_text.csv')\n",
    "### Initial exploration\n",
    "print(\"Dataset shape:\", df.shape)\n",
    "print(\"\\nFeature distribution:\\n\", df.describe())\n",
    "print(\"\\nMissing values:\\n\", df.isnull().sum())"
   ]
  },
  {
   "cell_type": "code",
   "execution_count": null,
   "metadata": {},
   "outputs": [],
   "source": []
  }
 ],
 "metadata": {
  "kernelspec": {
   "display_name": "Python 3 (ipykernel)",
   "language": "python",
   "name": "python3"
  },
  "language_info": {
   "codemirror_mode": {
    "name": "ipython",
    "version": 3
   },
   "file_extension": ".py",
   "mimetype": "text/x-python",
   "name": "python",
   "nbconvert_exporter": "python",
   "pygments_lexer": "ipython3",
   "version": "3.11.5"
  }
 },
 "nbformat": 4,
 "nbformat_minor": 4
}
